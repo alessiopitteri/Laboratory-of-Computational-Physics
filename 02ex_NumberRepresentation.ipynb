{
 "cells": [
  {
   "cell_type": "markdown",
   "metadata": {},
   "source": [
    "1\\. Write a function that converts number representation, bin<->dec<->hex. (Clearly using the corresponding python built-in functions is not fair..)"
   ]
  },
  {
   "cell_type": "code",
   "execution_count": null,
   "metadata": {},
   "outputs": [],
   "source": [
    "d16={0:'0',1:'1',2:'2',3:'3',4:'4',5:'5',6:'6',7:'7',8:'8',9:'9',10:'A',11:'B',12:'C',13:'D',14:'E',15:'F'}\n",
    "d16a={v: k for k, v in d16.items()}\n",
    "d2={0:0,1:1}\n",
    "\n",
    "def conv(n, bi):\n",
    "    \n",
    "    if(bi==2):\n",
    "        b210=0\n",
    "        j=len(str(n))\n",
    "        for i in str(n):\n",
    "            j-=1\n",
    "            b210+=int(i)*(2**j)\n",
    "            \n",
    "        k=len(str(b210))\n",
    "        s=int(b210)\n",
    "        b2x=''\n",
    "        for i in str(b210):\n",
    "            a=s%16\n",
    "            s=int(b210/16)\n",
    "            b2x=str(d16[a])+str(b2x)\n",
    "\n",
    "        print(\"base 10=\", b210)\n",
    "        print(\"base 16=\", b2x)\n",
    "    \n",
    "    elif(bi==10):\n",
    "        l=int(n)\n",
    "        b10x=''\n",
    "        for i in str(n):\n",
    "            a=l%16\n",
    "            l=int(l/16)\n",
    "            b10x=str(d16[a])+str(b10x)\n",
    "        print(\"base 16= \", b10x)\n",
    "        \n",
    "        b102=''\n",
    "        l=int(n)\n",
    "        while(l>0):\n",
    "            a=l%2\n",
    "            l=int(l/2)\n",
    "            b102=str(d2[a])+str(b102)\n",
    "        print(\"base 2= \", b102)\n",
    "        \n",
    "    elif(bi==16):\n",
    "        bx10=0\n",
    "        for i in str(n):\n",
    "            bx10+=d16a[i]\n",
    "        \n",
    "        print(\"base 10= \",bx10)\n",
    "        \n",
    "        b210=''\n",
    "        l=int(bx10)\n",
    "        while(l>0):\n",
    "            a=l%2\n",
    "            l=int(l/2)\n",
    "            b210=str(d2[a])+str(b210)\n",
    "        print(\"base 2= \", b210)          \n",
    "        \n",
    "        \n",
    "    \n",
    "conv('61D', 16)"
   ]
  },
  {
   "cell_type": "code",
   "execution_count": null,
   "metadata": {},
   "outputs": [],
   "source": [
    "d16={0:'0',1:'1',2:'2',3:'3',4:'4',5:'5',6:'6',7:'7',8:'8',9:'9',10:'A',11:'B',12:'C',13:'D',14:'E',15:'F'}\n",
    "d16a={v: k for k, v in d16.items()}\n",
    "d2={0:0,1:1}\n",
    "\n",
    "def bindec(n):\n",
    "    a=0\n",
    "    j=len(str(n))\n",
    "    for i in str(n):\n",
    "        j-=1\n",
    "        a+=int(i)*(2**j)\n",
    "    return a\n",
    "\n",
    "def decbin(n):\n",
    "    a=''\n",
    "    l=int(n)\n",
    "    while(l>0):\n",
    "        k=l%2\n",
    "        a=str(d2[k])+str(a)\n",
    "        l=int(l/2)\n",
    "    return a\n",
    "\n",
    "def esadec(n):\n",
    "    a=0\n",
    "    j=len(str(n))\n",
    "    for i in str(n):\n",
    "        j-=1\n",
    "        a+=int(d16a[i])*(16**j)\n",
    "    return a\n",
    "\n",
    "def decesa(n):\n",
    "    a=''\n",
    "    l=int(n)\n",
    "    while(l>0):\n",
    "        k=l%16\n",
    "        a=str(d16[k])+str(a)\n",
    "        l=int(l/16)\n",
    "    return a\n",
    "\n",
    "print( decesa(16329), esadec('3FBD'), bindec(10011110001), decbin(123456789) )\n",
    "print( decesa(bindec(111010110111100110100010101)) )\n",
    "    \n",
    "    "
   ]
  },
  {
   "cell_type": "markdown",
   "metadata": {},
   "source": [
    "2\\. Write a function that converts a 32 bit word into a single precision floating point (i.e. interprets the various bits as sign, mantissa and exponent)"
   ]
  },
  {
   "cell_type": "code",
   "execution_count": null,
   "metadata": {},
   "outputs": [],
   "source": [
    "#oppure \n",
    "def conv(n):\n",
    "    n=str(n)\n",
    "    \n",
    "    s=n[0]\n",
    "    b=n[1:9]\n",
    "    m=n[9:]\n",
    "    \n",
    "    print(s,m,b)\n",
    "    \n",
    "    p=0\n",
    "    f=0\n",
    "    for i in str(m):\n",
    "        p+=1\n",
    "        f+=int(i)/ 2**(p)\n",
    "\n",
    "    e=bindec(b)\n",
    "    \n",
    "    \n",
    "    x=(-1)**int(s)*(1+f)*2**(e-127)\n",
    "    print(x)\n",
    "    \n",
    "conv(10110100111000110011100111001100)"
   ]
  },
  {
   "cell_type": "markdown",
   "metadata": {},
   "source": [
    "3\\. Write a program to determine the underflow and overflow limits (within a factor of 2) for python on your computer. \n",
    "\n",
    "**Tips**: define two variables inizialized to 1 and halve/double them enough time to exceed the under/over-flow limits  "
   ]
  },
  {
   "cell_type": "code",
   "execution_count": null,
   "metadata": {},
   "outputs": [
    {
     "name": "stdout",
     "output_type": "stream",
     "text": [
      "1075\n"
     ]
    }
   ],
   "source": [
    "a=1\n",
    "cu=0\n",
    "while(a!=0):\n",
    "    a=a/2\n",
    "    cu+=1\n",
    "print(cu)\n",
    "\n",
    "overflow=0\n",
    "b=1\n",
    "co=0\n",
    "while(b!=float(\"inf\")):\n",
    "    overflow=b\n",
    "    b=b*2\n",
    "    co+=1\n",
    "        \n",
    "print(co,overflow)\n",
    "\n",
    "\n"
   ]
  },
  {
   "cell_type": "markdown",
   "metadata": {},
   "source": [
    "4\\. Write a program to determine the machine precision\n",
    "\n",
    "**Tips**: define a new variable by adding a smaller and smaller value (proceeding similarly to prob. 2) to an original variable and check the point where the two are the same "
   ]
  },
  {
   "cell_type": "code",
   "execution_count": null,
   "metadata": {},
   "outputs": [],
   "source": [
    "i=0\n",
    "s=0\n",
    "k=1\n",
    "while(s!=k):\n",
    "    i+=1\n",
    "    k=0\n",
    "    s+=1/10**(i)\n",
    "    k=s+1/10**(i+1)\n",
    "\n",
    "print(s,k)\n",
    "\n",
    "print(i)\n",
    "        "
   ]
  },
  {
   "cell_type": "markdown",
   "metadata": {},
   "source": [
    "5\\. Write a function that takes in input three parameters $a$, $b$ and $c$ and prints out the two solutions to the quadratic equation $ax^2+bx+c=0$ using the standard formula:\n",
    "$$\n",
    "x=\\frac{-b\\pm\\sqrt{b^2-4ac}}{2a}\n",
    "$$\n",
    "\n",
    "(a) use the program to compute the solution for $a=0.001$, $b=1000$ and $c=0.001$\n",
    "\n",
    "(b) re-express the standard solution formula by multiplying top and bottom by $-b\\mp\\sqrt{b^2-4ac}$ and again find the solution for $a=0.001$, $b=1000$ and $c=0.001$. How does it compare with what previously obtained? Why?\n",
    "\n",
    "(c) write a function that compute the roots of a quadratic equation accurately in all cases"
   ]
  },
  {
   "cell_type": "code",
   "execution_count": null,
   "metadata": {},
   "outputs": [],
   "source": [
    "def zero(x,a,b,c):\n",
    "    m=2*a*x+b\n",
    "    xf=(-(a*x**2+b*x+c)+m*x)/m\n",
    "    return(xf)\n",
    "\n",
    "import math as m\n",
    "a=0.001\n",
    "b=1000\n",
    "c=0.001\n",
    "x1=(-b+m.sqrt(b**(2)-4*a*c))/(2*a)\n",
    "x2=(-b-m.sqrt(b**(2)-4*a*c))/(2*a)\n",
    "print(x1,x2)\n",
    "\n",
    "x3=(b**2-(b**(2)-4*a*c))/(2*a)/(-b-m.sqrt(b**(2)-4*a*c))\n",
    "x4=(b**2-(b**(2)-4*a*c))/(2*a)/(-b+m.sqrt(b**(2)-4*a*c))\n",
    "print(x3,x4)\n",
    "\n",
    "\n",
    "xi=x1\n",
    "xii=x2\n",
    "for i in range(1000):\n",
    "    xi=zero(xi,a,b,c)\n",
    "    xii=zero(xii,a,b,c)\n",
    "print(xi, xii)\n"
   ]
  },
  {
   "cell_type": "markdown",
   "metadata": {},
   "source": [
    "6\\. Write a program that implements the function $f(x)=x(x−1)$\n",
    "\n",
    "(a) Calculate the derivative of the function at the point $x = 1$ using the derivative definition:\n",
    "\n",
    "$$\n",
    "\\frac{{\\rm d}f}{{\\rm d}x} = \\lim_{\\delta\\to0} \\frac{f(x+\\delta)-f(x)}{\\delta}\n",
    "$$\n",
    "\n",
    "with $\\delta = 10^{−2}$. Calculate the true value of the same derivative analytically and compare with the answer your program gives. The two will not agree perfectly. Why not?\n",
    "\n",
    "(b) Repeat the calculation for $\\delta = 10^{−4}, 10^{−6}, 10^{−8}, 10^{−10}, 10^{−12}$ and $10^{−14}$. How does the accuracy scales with $\\delta$?"
   ]
  },
  {
   "cell_type": "code",
   "execution_count": null,
   "metadata": {},
   "outputs": [],
   "source": [
    "def der(x,d):\n",
    "    return ((x+d)*(x+d-1)-x*(x-1))/d\n",
    "\n",
    "for i in range(20):\n",
    "    print ( 1-der(1,1/10**(i)) )"
   ]
  },
  {
   "cell_type": "markdown",
   "metadata": {},
   "source": [
    "7\\. Consider the integral of the semicircle of radius 1:\n",
    "$$\n",
    "I=\\int_{-1}^{1} \\sqrt(1-x^2) {\\rm d}x\n",
    "$$\n",
    "which it's known to be $I=\\frac{\\pi}{2}=1.57079632679...$.\n",
    "Alternatively we can use the Riemann definition of the integral:\n",
    "$$\n",
    "I=\\lim_{N\\to\\infty} \\sum_{k=1}^{N} h y_k \n",
    "$$\n",
    "\n",
    "with $h=2/N$ the width of each of the $N$ slices the domain is divided into and where\n",
    "$y_k$ is the value of the function at the $k-$th slice.\n",
    "\n",
    "(a) Write a programe to compute the integral with $N=100$. How does the result compares to the true value?\n",
    "\n",
    "(b) How much can $N$ be increased if the computation needs to be run in less than a second? What is the gain in running it for 1 minute? \n"
   ]
  },
  {
   "cell_type": "code",
   "execution_count": null,
   "metadata": {},
   "outputs": [],
   "source": [
    "import math as m \n",
    "def integral(n):\n",
    "    h=2/n\n",
    "    x=-1\n",
    "    sum=0\n",
    "    for i in range(n):\n",
    "        sum+=m.sqrt(1-(x)**2)*h\n",
    "        x+=h\n",
    "    return sum\n",
    "\n",
    "print( integral(1000000) )"
   ]
  },
  {
   "cell_type": "code",
   "execution_count": null,
   "metadata": {},
   "outputs": [],
   "source": []
  }
 ],
 "metadata": {
  "kernelspec": {
   "display_name": "Python 3",
   "language": "python",
   "name": "python3"
  },
  "language_info": {
   "codemirror_mode": {
    "name": "ipython",
    "version": 3
   },
   "file_extension": ".py",
   "mimetype": "text/x-python",
   "name": "python",
   "nbconvert_exporter": "python",
   "pygments_lexer": "ipython3",
   "version": "3.8.3"
  }
 },
 "nbformat": 4,
 "nbformat_minor": 2
}
