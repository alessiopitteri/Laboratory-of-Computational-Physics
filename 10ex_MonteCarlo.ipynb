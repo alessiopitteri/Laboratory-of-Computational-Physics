{
 "cells": [
  {
   "cell_type": "markdown",
   "metadata": {},
   "source": [
    "1\\. **Radioactive decay chain**\n",
    "\n",
    "${\\rm Tl}^{208}$ decays to ${\\rm Pb}^{208}$ with a half-lieve of 3.052 minutes. Suppose to start with a sample of 1000 Thallium atoms and 0 of Lead atoms.\n",
    "\n",
    "* Take steps in time of 1 second and at each time-step decide whether each Tl atom has decayed or not, accordingly to the probability $p(t)=1-2^{-t/\\tau}$. Subtract the total number of Tl atoms that decayed at each step from the Tl sample and add them to the Lead one. Plot the evolution of the two sets as a function of time  \n",
    "* Repeat the exercise by means of the inverse transform method: draw 1000 random numbers from the non-uniform probability distribution $p(t)=2^{-t/\\tau}\\frac{\\ln 2}{\\tau}$ to represent the times of decay of the 1000 Tl atoms. Make a plot showing the number of atoms that have not decayed as a function of time"
   ]
  },
  {
   "cell_type": "code",
   "execution_count": 1,
   "metadata": {},
   "outputs": [],
   "source": [
    "import numpy as np\n",
    "import pandas as pd\n",
    "from scipy import stats\n",
    "\n",
    "import matplotlib.pyplot as plt\n",
    "import seaborn as sns"
   ]
  },
  {
   "cell_type": "code",
   "execution_count": 2,
   "metadata": {},
   "outputs": [
    {
     "name": "stdout",
     "output_type": "stream",
     "text": [
      "0.0037780525408761534\n"
     ]
    },
    {
     "data": {
      "text/plain": [
       "<matplotlib.collections.PathCollection at 0x1c973cb9f10>"
      ]
     },
     "execution_count": 2,
     "metadata": {},
     "output_type": "execute_result"
    },
    {
     "data": {
      "image/png": "[encoded data removed]",
      "text/plain": [
       "<Figure size 432x288 with 1 Axes>"
      ]
     },
     "metadata": {
      "needs_background": "light"
     },
     "output_type": "display_data"
    }
   ],
   "source": [
    "import numpy as np\n",
    "Tl = 1000\n",
    "Pb = 0\n",
    "tlv=[]\n",
    "pbv=[]\n",
    "tau = 3.052*60\n",
    "def prob(t,tau):\n",
    "    return 1-2**(-t/tau)\n",
    "\n",
    "print(prob(1,tau))\n",
    "nstep=1000\n",
    "for t in range(nstep):\n",
    "    uni = np.random.uniform(0, 1, Tl)\n",
    "    tlc = len(uni[uni<prob(1,tau)])\n",
    "    Tl+= -tlc\n",
    "    Pb+= +tlc\n",
    "    tlv.append(Tl)\n",
    "    pbv.append(Pb)\n",
    "\n",
    "plt.scatter(np.arange(nstep),tlv)\n",
    "plt.scatter(np.arange(nstep),pbv)\n",
    "\n",
    "    \n",
    "    "
   ]
  },
  {
   "cell_type": "code",
   "execution_count": 3,
   "metadata": {},
   "outputs": [],
   "source": [
    "def pdfi(z,tau):\n",
    "    return -tau*np.log2(1-z)\n",
    "def pt(t,tau):\n",
    "    return 2**(-t/tau)*np.log(2)/tau "
   ]
  },
  {
   "cell_type": "code",
   "execution_count": 4,
   "metadata": {},
   "outputs": [
    {
     "data": {
      "text/plain": [
       "[]"
      ]
     },
     "execution_count": 4,
     "metadata": {},
     "output_type": "execute_result"
    },
    {
     "data": {
      "image/png": "[encoded data removed]",
      "text/plain": [
       "<Figure size 432x288 with 1 Axes>"
      ]
     },
     "metadata": {
      "needs_background": "light"
     },
     "output_type": "display_data"
    }
   ],
   "source": [
    "N=1000\n",
    "\n",
    "unif = np.random.uniform(0, 1, 100000)\n",
    "\n",
    "k = pdfi(unif,tau)\n",
    "\n",
    "fig, ax = plt.subplots()\n",
    "ax.hist(k, bins=1000, density=True)\n",
    "\n",
    "x=np.arange(3000)\n",
    "ax.plot(x, pt(x,tau))\n",
    "\n",
    "plt.plot()"
   ]
  },
  {
   "cell_type": "markdown",
   "metadata": {},
   "source": [
    "2\\. **Rutherford Scattering**\n",
    "\n",
    "The scattering angle $\\theta$ of $\\alpha$ particles hitting a positively charged nucleus of a Gold atom ($Z=79$) follows the rule:\n",
    "\n",
    "$$\n",
    "\\tan{\\frac{1}{2} \\theta} = \\frac{Z e^2} {2\\pi \\epsilon_0 E b}\n",
    "$$\n",
    "\n",
    "where $E=7.7$ MeV and $b$ beam is the impact parameter. The beam is represented by a 2D gaussian distribution with $\\sigma=a_0/100$ for both coordinates ($a_0$ being the Bohr radius). Assume 1 million $\\alpha$ particles are shot on the gold atom.\n",
    "\n",
    "Computing the fraction of particles that \"bounce back\",i.e. those particle whose scattering angle is greater than $\\pi/2$ (which set a condition on the impact parameter $b$)"
   ]
  },
  {
   "cell_type": "code",
   "execution_count": 5,
   "metadata": {},
   "outputs": [
    {
     "name": "stdout",
     "output_type": "stream",
     "text": [
      "0.071697\n"
     ]
    }
   ],
   "source": [
    "N=1000000\n",
    "sigma=1/100\n",
    "Z=79\n",
    "E=7.7*10**6\n",
    "e=1\n",
    "eps=1\n",
    "b = Z*e**2/(2*np.pi*eps*E)\n",
    "x=np.random.normal(0,sigma,N)\n",
    "y=x=np.random.normal(0,sigma,N)\n",
    "d = x**2+y**2\n",
    "bb = d[d<b]\n",
    "print(len(bb)/N)"
   ]
  },
  {
   "cell_type": "markdown",
   "metadata": {},
   "source": [
    "3\\. **Monte Carlo integration: hit/miss vs mean value method**\n",
    "\n",
    "Consider the function \n",
    "\n",
    "$$f(x) =\\sin^2{\\frac{1}{x(2-x)}}$$\n",
    "\n",
    "* Compute the integral of $f(x)$ between 0 and 2 with the hit/miss method. Evaluate the error of your estimate\n",
    "* Repeat the integral with the mean value method. Evaluate the error and compare it with the previous one"
   ]
  },
  {
   "cell_type": "code",
   "execution_count": 6,
   "metadata": {},
   "outputs": [],
   "source": [
    "def fx(x):\n",
    "    return np.sin(1/(x*(2-x)))**2"
   ]
  },
  {
   "cell_type": "code",
   "execution_count": 7,
   "metadata": {},
   "outputs": [
    {
     "name": "stdout",
     "output_type": "stream",
     "text": [
      "1.4513306\n"
     ]
    }
   ],
   "source": [
    "x = np.linspace(0.0001,1.9999,100)\n",
    "n = 10000000\n",
    "u = np.random.uniform(0, 2, n)\n",
    "r = np.random.uniform(0, 1, n)\n",
    "cs = len( u[r < fx(u)] )\n",
    "\n",
    "area=2\n",
    "\n",
    "hitmiss = cs/n*area\n",
    "print(hitmiss)\n"
   ]
  },
  {
   "cell_type": "code",
   "execution_count": 8,
   "metadata": {},
   "outputs": [
    {
     "name": "stdout",
     "output_type": "stream",
     "text": [
      "1.4514124218061366\n"
     ]
    }
   ],
   "source": [
    "sumv=np.sum(fx(u))\n",
    "meanv=2/n*sumv\n",
    "print(meanv)"
   ]
  },
  {
   "cell_type": "markdown",
   "metadata": {},
   "source": [
    "4\\. **Monte Carlo integration in high dimension**\n",
    "\n",
    "* Start of by computing the area of a circle of unit radius, by integrating the function \n",
    "\n",
    "$$\n",
    "f(x,y)=\n",
    "\\left\\{\n",
    "\\begin{array}{ll}\n",
    "      1 & x^2+y^2\\le 1 \\\\\n",
    "      0 & {\\rm elsewhere}\n",
    "\\end{array} \n",
    "\\right.\n",
    "$$\n",
    "\n",
    "* Generalize the result for a 10D sphere\n",
    "\n"
   ]
  },
  {
   "cell_type": "code",
   "execution_count": 9,
   "metadata": {},
   "outputs": [
    {
     "data": {
      "text/plain": [
       "<matplotlib.collections.PathCollection at 0x1c904c522e0>"
      ]
     },
     "execution_count": 9,
     "metadata": {},
     "output_type": "execute_result"
    },
    {
     "data": {
      "image/png": "[encoded data removed]",
      "text/plain": [
       "<Figure size 432x288 with 1 Axes>"
      ]
     },
     "metadata": {
      "needs_background": "light"
     },
     "output_type": "display_data"
    }
   ],
   "source": [
    "\n",
    "n=1000\n",
    "v=[]\n",
    "\n",
    "for d in range(2,100):\n",
    "    mc=0\n",
    "    s=0\n",
    "    \n",
    "\n",
    "    for i in range(0,d):\n",
    "        mc+=np.random.uniform(0,1,n)**2\n",
    "    \n",
    "\n",
    "    \n",
    "    for j in mc:\n",
    "        if(j<=1):\n",
    "            s+=1\n",
    "        \n",
    "    v.append(s/n)\n",
    "    \n",
    "plt.scatter(np.arange(2,100),v)"
   ]
  },
  {
   "cell_type": "code",
   "execution_count": 10,
   "metadata": {},
   "outputs": [
    {
     "name": "stdout",
     "output_type": "stream",
     "text": [
      "0.792 0.7853981633974483\n"
     ]
    }
   ],
   "source": [
    "mc=0\n",
    "s=0\n",
    "d=2\n",
    "\n",
    "for i in range(0,d):\n",
    "    mc+=np.random.uniform(0,1,n)**2\n",
    "    \n",
    "\n",
    "    \n",
    "for j in mc:\n",
    "    if(j<=1):\n",
    "        s+=1\n",
    "        \n",
    "print(s/n,0.5**2*np.pi)"
   ]
  },
  {
   "cell_type": "markdown",
   "metadata": {},
   "source": [
    "5\\. **Monte Carlo integration with importance sampling** \n",
    "\n",
    "Calculate the value of the integral:\n",
    "\n",
    "$$\n",
    "I=\\int_0^1 \\frac{x^{-1/2}}{e^x+1} dx\n",
    "$$\n",
    "\n",
    "using the importance sampling method with $w(x)=1/\\sqrt{x}$. You should get a result about 0.84"
   ]
  },
  {
   "cell_type": "code",
   "execution_count": 11,
   "metadata": {},
   "outputs": [
    {
     "data": {
      "text/plain": [
       "0.7597783279979294"
      ]
     },
     "execution_count": 11,
     "metadata": {},
     "output_type": "execute_result"
    }
   ],
   "source": [
    "k=2\n",
    "N=1000\n",
    "\n",
    "def f(x):\n",
    "    return 1/(np.exp(x)+1)/np.sqrt(x)\n",
    "def g(x):\n",
    "    return 1/np.sqrt(x)\n",
    "\n",
    "x=np.linspace(0.0001,0.9999,N)\n",
    "\n",
    "somma=np.sum(f(x)/g(x))\n",
    "\n",
    "1/N*somma*k"
   ]
  },
  {
   "cell_type": "code",
   "execution_count": null,
   "metadata": {},
   "outputs": [],
   "source": []
  },
  {
   "cell_type": "code",
   "execution_count": null,
   "metadata": {},
   "outputs": [],
   "source": []
  },
  {
   "cell_type": "code",
   "execution_count": null,
   "metadata": {},
   "outputs": [],
   "source": []
  },
  {
   "cell_type": "code",
   "execution_count": null,
   "metadata": {},
   "outputs": [],
   "source": []
  },
  {
   "cell_type": "code",
   "execution_count": null,
   "metadata": {},
   "outputs": [],
   "source": []
  }
 ],
 "metadata": {
  "kernelspec": {
   "display_name": "Python 3",
   "language": "python",
   "name": "python3"
  },
  "language_info": {
   "codemirror_mode": {
    "name": "ipython",
    "version": 3
   },
   "file_extension": ".py",
   "mimetype": "text/x-python",
   "name": "python",
   "nbconvert_exporter": "python",
   "pygments_lexer": "ipython3",
   "version": "3.8.3"
  }
 },
 "nbformat": 4,
 "nbformat_minor": 2
}
